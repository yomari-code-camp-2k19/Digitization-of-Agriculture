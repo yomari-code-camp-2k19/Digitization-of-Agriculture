{
 "cells": [
  {
   "cell_type": "code",
   "execution_count": 1,
   "metadata": {},
   "outputs": [],
   "source": [
    "import numpy as np\n",
    "from sklearn.externals import joblib\n"
   ]
  },
  {
   "cell_type": "code",
   "execution_count": 2,
   "metadata": {},
   "outputs": [],
   "source": [
    "def giveSuggestions(features,model,numberOfSuggestions=3):\n",
    "    predictProbabilities=model.predict_proba(features) \n",
    "    indeces=predictProbabilities[0].argsort()[-numberOfSuggestions:][::-1]\n",
    "    #print(\"Suggestions in decresing of their priorities\")\n",
    "    suggest=[]\n",
    "    probs=[]\n",
    "    for i in range(len(indeces)):\n",
    "        #print(i,\" : \",model.classes_[indeces[i]])\n",
    "        suggest.append(model.classes_[indeces[i]])\n",
    "        probs.append(predictProbabilities[0,indeces[i]])\n",
    "    return suggest,probs"
   ]
  },
  {
   "cell_type": "code",
   "execution_count": 3,
   "metadata": {},
   "outputs": [],
   "source": [
    "import pandas as pd\n",
    "data=pd.read_csv('FoodCrops.csv')\n",
    "districtCode=data.iloc[:,1]\n",
    "districtCodeJson=districtCode.to_json()\n",
    "paddyCols = [col for col in data.columns if 'PD_Y' in col]\n",
    "wheatCols = [col for col in data.columns if 'WT_Y' in col]\n",
    "maizeCols = [col for col in data.columns if 'MZ_Y' in col]\n",
    "milletCols = [col for col in data.columns if 'ML_Y' in col]\n",
    "barleyCols = [col for col in data.columns if 'BL_Y' in col]\n",
    "#districtCodeJson"
   ]
  },
  {
   "cell_type": "code",
   "execution_count": 4,
   "metadata": {},
   "outputs": [],
   "source": [
    "# suggestions,prob =giveSuggestions([[6,7,8,10]],lrmodel,3)\n",
    "# print(prob)\n",
    "# print(suggestions)"
   ]
  },
  {
   "cell_type": "code",
   "execution_count": null,
   "metadata": {},
   "outputs": [],
   "source": [
    "#!pip install flask\n",
    "#!pip install -U flask-cors"
   ]
  },
  {
   "cell_type": "code",
   "execution_count": null,
   "metadata": {},
   "outputs": [
    {
     "data": {
      "text/plain": [
       "<flask_cors.extension.CORS at 0x7fdc24357fd0>"
      ]
     },
     "execution_count": 6,
     "metadata": {},
     "output_type": "execute_result"
    }
   ],
   "source": [
    "from flask import Flask, jsonify, request, render_template\n",
    "from flask_cors import CORS\n",
    "app = Flask(__name__)\n",
    "CORS(app)"
   ]
  },
  {
   "cell_type": "code",
   "execution_count": null,
   "metadata": {},
   "outputs": [],
   "source": [
    "@app.route('/predict', methods=['POST'])\n",
    "def predictroute():\n",
    "    print(request.is_json)\n",
    "    content=request.get_json()\n",
    "    ph = content['ph']\n",
    "    rainfall=content['rainfall']\n",
    "    temp=content['temp']\n",
    "    alt=content['alt']\n",
    "    #print(\"ph is \",ph)\n",
    "    bestCrop,prob=giveSuggestions([[ph,temp,alt,rainfall]],lrmodel,7)\n",
    "    #bestCrop= lrmodel.predict([[ph,temp,alt,rainfall]])\n",
    "    \n",
    "    #print(bestCrop)\n",
    "    #query_df = pd.DataFrame(json_)\n",
    "    #query = pd.get_dummies(query_df)\n",
    "    #prediction = clf.predict(query)\n",
    "    #return jsonify({'prediction': list(prediction)})\n",
    "    #return jsonify({'prediction': bestCrop})    \n",
    "    return jsonify([{'x': bestCrop,\n",
    "                     'y': prob,\n",
    "                     'type':'bar'\n",
    "                    }])"
   ]
  },
  {
   "cell_type": "code",
   "execution_count": null,
   "metadata": {},
   "outputs": [],
   "source": [
    "@app.route('/',methods=['GET'])\n",
    "def index():\n",
    "    return render_template('maps.html')"
   ]
  },
  {
   "cell_type": "code",
   "execution_count": null,
   "metadata": {},
   "outputs": [],
   "source": [
    "@app.route('/stats',methods=['GET'])\n",
    "def stats():\n",
    "    return render_template('stats.html',dc=districtCodeJson)"
   ]
  },
  {
   "cell_type": "code",
   "execution_count": null,
   "metadata": {},
   "outputs": [],
   "source": [
    "@app.route('/stats/<code>',methods=['GET'])\n",
    "def getstats(code):\n",
    "    id= int(code) #type conversion from string to int\n",
    "    return jsonify({\n",
    "        'Paddy':[{'x':paddyCols,'y':data[paddyCols].iloc[id].values.tolist()}],\n",
    "        'Maize':[{'x':maizeCols,'y':data[maizeCols].iloc[id].values.tolist()}],\n",
    "        'Millet':[{'x':milletCols,'y':data[milletCols].iloc[id].values.tolist()}],\n",
    "        'Barley':[{'x':barleyCols,'y':data[barleyCols].iloc[id].values.tolist()}],\n",
    "        'Wheat':[{'x':wheatCols,'y':data[wheatCols].iloc[id].values.tolist()}] \n",
    "    })"
   ]
  },
  {
   "cell_type": "code",
   "execution_count": null,
   "metadata": {},
   "outputs": [
    {
     "name": "stdout",
     "output_type": "stream",
     "text": [
      " * Serving Flask app \"__main__\" (lazy loading)\n",
      " * Environment: production\n",
      "   WARNING: Do not use the development server in a production environment.\n",
      "   Use a production WSGI server instead.\n",
      " * Debug mode: off\n"
     ]
    },
    {
     "name": "stderr",
     "output_type": "stream",
     "text": [
      " * Running on http://127.0.0.1:8080/ (Press CTRL+C to quit)\n",
      "127.0.0.1 - - [07/Feb/2019 14:48:14] \"\u001b[37mOPTIONS /predict HTTP/1.1\u001b[0m\" 200 -\n",
      "127.0.0.1 - - [07/Feb/2019 14:48:14] \"\u001b[37mPOST /predict HTTP/1.1\u001b[0m\" 200 -\n"
     ]
    },
    {
     "name": "stdout",
     "output_type": "stream",
     "text": [
      "True\n"
     ]
    },
    {
     "name": "stderr",
     "output_type": "stream",
     "text": [
      "127.0.0.1 - - [07/Feb/2019 14:58:05] \"\u001b[37mOPTIONS /predict HTTP/1.1\u001b[0m\" 200 -\n",
      "127.0.0.1 - - [07/Feb/2019 14:58:05] \"\u001b[37mPOST /predict HTTP/1.1\u001b[0m\" 200 -\n"
     ]
    },
    {
     "name": "stdout",
     "output_type": "stream",
     "text": [
      "True\n"
     ]
    },
    {
     "name": "stderr",
     "output_type": "stream",
     "text": [
      "127.0.0.1 - - [07/Feb/2019 14:58:39] \"\u001b[37mOPTIONS /predict HTTP/1.1\u001b[0m\" 200 -\n",
      "127.0.0.1 - - [07/Feb/2019 14:58:39] \"\u001b[37mPOST /predict HTTP/1.1\u001b[0m\" 200 -\n"
     ]
    },
    {
     "name": "stdout",
     "output_type": "stream",
     "text": [
      "True\n"
     ]
    },
    {
     "name": "stderr",
     "output_type": "stream",
     "text": [
      "127.0.0.1 - - [07/Feb/2019 14:59:43] \"\u001b[37mOPTIONS /predict HTTP/1.1\u001b[0m\" 200 -\n",
      "127.0.0.1 - - [07/Feb/2019 14:59:43] \"\u001b[37mPOST /predict HTTP/1.1\u001b[0m\" 200 -\n"
     ]
    },
    {
     "name": "stdout",
     "output_type": "stream",
     "text": [
      "True\n"
     ]
    },
    {
     "name": "stderr",
     "output_type": "stream",
     "text": [
      "127.0.0.1 - - [07/Feb/2019 15:00:57] \"\u001b[37mOPTIONS /predict HTTP/1.1\u001b[0m\" 200 -\n",
      "127.0.0.1 - - [07/Feb/2019 15:00:57] \"\u001b[37mPOST /predict HTTP/1.1\u001b[0m\" 200 -\n"
     ]
    },
    {
     "name": "stdout",
     "output_type": "stream",
     "text": [
      "True\n"
     ]
    },
    {
     "name": "stderr",
     "output_type": "stream",
     "text": [
      "127.0.0.1 - - [07/Feb/2019 15:01:05] \"\u001b[37mOPTIONS /predict HTTP/1.1\u001b[0m\" 200 -\n",
      "127.0.0.1 - - [07/Feb/2019 15:01:05] \"\u001b[37mPOST /predict HTTP/1.1\u001b[0m\" 200 -\n"
     ]
    },
    {
     "name": "stdout",
     "output_type": "stream",
     "text": [
      "True\n"
     ]
    },
    {
     "name": "stderr",
     "output_type": "stream",
     "text": [
      "127.0.0.1 - - [07/Feb/2019 15:25:41] \"\u001b[37mOPTIONS /predict HTTP/1.1\u001b[0m\" 200 -\n",
      "127.0.0.1 - - [07/Feb/2019 15:25:42] \"\u001b[37mPOST /predict HTTP/1.1\u001b[0m\" 200 -\n"
     ]
    },
    {
     "name": "stdout",
     "output_type": "stream",
     "text": [
      "True\n"
     ]
    },
    {
     "name": "stderr",
     "output_type": "stream",
     "text": [
      "127.0.0.1 - - [07/Feb/2019 15:36:14] \"\u001b[37mOPTIONS /predict HTTP/1.1\u001b[0m\" 200 -\n",
      "127.0.0.1 - - [07/Feb/2019 15:36:14] \"\u001b[37mPOST /predict HTTP/1.1\u001b[0m\" 200 -\n"
     ]
    },
    {
     "name": "stdout",
     "output_type": "stream",
     "text": [
      "True\n"
     ]
    },
    {
     "name": "stderr",
     "output_type": "stream",
     "text": [
      "127.0.0.1 - - [07/Feb/2019 15:37:07] \"\u001b[37mOPTIONS /predict HTTP/1.1\u001b[0m\" 200 -\n",
      "127.0.0.1 - - [07/Feb/2019 15:37:07] \"\u001b[37mPOST /predict HTTP/1.1\u001b[0m\" 200 -\n"
     ]
    },
    {
     "name": "stdout",
     "output_type": "stream",
     "text": [
      "True\n"
     ]
    },
    {
     "name": "stderr",
     "output_type": "stream",
     "text": [
      "127.0.0.1 - - [07/Feb/2019 15:37:18] \"\u001b[37mOPTIONS /predict HTTP/1.1\u001b[0m\" 200 -\n",
      "127.0.0.1 - - [07/Feb/2019 15:37:18] \"\u001b[37mPOST /predict HTTP/1.1\u001b[0m\" 200 -\n"
     ]
    },
    {
     "name": "stdout",
     "output_type": "stream",
     "text": [
      "True\n"
     ]
    },
    {
     "name": "stderr",
     "output_type": "stream",
     "text": [
      "127.0.0.1 - - [07/Feb/2019 15:37:25] \"\u001b[37mOPTIONS /predict HTTP/1.1\u001b[0m\" 200 -\n",
      "127.0.0.1 - - [07/Feb/2019 15:37:25] \"\u001b[37mPOST /predict HTTP/1.1\u001b[0m\" 200 -\n"
     ]
    },
    {
     "name": "stdout",
     "output_type": "stream",
     "text": [
      "True\n"
     ]
    },
    {
     "name": "stderr",
     "output_type": "stream",
     "text": [
      "127.0.0.1 - - [07/Feb/2019 15:42:44] \"\u001b[37mOPTIONS /predict HTTP/1.1\u001b[0m\" 200 -\n",
      "127.0.0.1 - - [07/Feb/2019 15:42:44] \"\u001b[37mPOST /predict HTTP/1.1\u001b[0m\" 200 -\n"
     ]
    },
    {
     "name": "stdout",
     "output_type": "stream",
     "text": [
      "True\n"
     ]
    }
   ],
   "source": [
    "if __name__ == '__main__':\n",
    "     lrmodel=joblib.load('model.joblib')\n",
    "     app.run(port=8080)"
   ]
  },
  {
   "cell_type": "code",
   "execution_count": null,
   "metadata": {},
   "outputs": [],
   "source": [
    "#!pip install statsmodels"
   ]
  },
  {
   "cell_type": "code",
   "execution_count": null,
   "metadata": {},
   "outputs": [],
   "source": []
  }
 ],
 "metadata": {
  "kernelspec": {
   "display_name": "Python 3",
   "language": "python",
   "name": "python3"
  },
  "language_info": {
   "codemirror_mode": {
    "name": "ipython",
    "version": 3
   },
   "file_extension": ".py",
   "mimetype": "text/x-python",
   "name": "python",
   "nbconvert_exporter": "python",
   "pygments_lexer": "ipython3",
   "version": "3.6.6"
  }
 },
 "nbformat": 4,
 "nbformat_minor": 2
}
