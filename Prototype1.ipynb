{
 "cells": [
  {
   "cell_type": "code",
   "execution_count": 1,
   "metadata": {},
   "outputs": [],
   "source": [
    "import pandas as pd\n",
    "import numpy as np"
   ]
  },
  {
   "cell_type": "code",
   "execution_count": 2,
   "metadata": {},
   "outputs": [
    {
     "data": {
      "text/plain": [
       "array([4.1805432 , 3.61416255, 3.45865165])"
      ]
     },
     "execution_count": 2,
     "metadata": {},
     "output_type": "execute_result"
    }
   ],
   "source": [
    "def theFunction(p,q,n):\n",
    "    return p+np.random.rand(n)*(q-p)\n",
    "theFunction(1,5,3)# from 1 to 5 generate 3 numbers"
   ]
  },
  {
   "cell_type": "code",
   "execution_count": 3,
   "metadata": {},
   "outputs": [],
   "source": [
    "def getCropData(cropName,phmin,phmax,tempmin,tempmax,altmin,altmax,rfmin,rfmax,samplesize=30):\n",
    "    \n",
    "    crop= np.repeat(cropName,samplesize).reshape(samplesize,1)\n",
    "    #ph 0-14\n",
    "    ph = theFunction(phmin,phmax,samplesize)\n",
    "    ph=ph.reshape(samplesize,1)   \n",
    "    ph=np.round(ph,decimals=2) #rounding to 2 decimal places\n",
    "    #temperature in degree celcius\n",
    "    temp = np.round(theFunction(tempmin,tempmax,samplesize).reshape(samplesize,1),2)\n",
    "    altitude = np.round(theFunction(altmin,altmax,samplesize).reshape(samplesize,1),2)\n",
    "    rainfall = np.round(theFunction(rfmin,rfmax,samplesize).reshape(samplesize,1),2)\n",
    "    #ph temp altitude rainfall crop\n",
    "    return np.concatenate([ph,temp,altitude,rainfall,crop],axis=1)"
   ]
  },
  {
   "cell_type": "code",
   "execution_count": 4,
   "metadata": {},
   "outputs": [
    {
     "data": {
      "text/html": [
       "<div>\n",
       "<style scoped>\n",
       "    .dataframe tbody tr th:only-of-type {\n",
       "        vertical-align: middle;\n",
       "    }\n",
       "\n",
       "    .dataframe tbody tr th {\n",
       "        vertical-align: top;\n",
       "    }\n",
       "\n",
       "    .dataframe thead th {\n",
       "        text-align: right;\n",
       "    }\n",
       "</style>\n",
       "<table border=\"1\" class=\"dataframe\">\n",
       "  <thead>\n",
       "    <tr style=\"text-align: right;\">\n",
       "      <th></th>\n",
       "      <th>ph</th>\n",
       "      <th>temp</th>\n",
       "      <th>altitude</th>\n",
       "      <th>rainfall</th>\n",
       "      <th>crop</th>\n",
       "    </tr>\n",
       "  </thead>\n",
       "  <tbody>\n",
       "    <tr>\n",
       "      <th>0</th>\n",
       "      <td>5.86</td>\n",
       "      <td>26.14</td>\n",
       "      <td>2285.45</td>\n",
       "      <td>110.52</td>\n",
       "      <td>RICE</td>\n",
       "    </tr>\n",
       "    <tr>\n",
       "      <th>1</th>\n",
       "      <td>5.86</td>\n",
       "      <td>26.12</td>\n",
       "      <td>2235.28</td>\n",
       "      <td>183.12</td>\n",
       "      <td>RICE</td>\n",
       "    </tr>\n",
       "    <tr>\n",
       "      <th>2</th>\n",
       "      <td>5.48</td>\n",
       "      <td>26.73</td>\n",
       "      <td>1703.03</td>\n",
       "      <td>198.55</td>\n",
       "      <td>RICE</td>\n",
       "    </tr>\n",
       "    <tr>\n",
       "      <th>3</th>\n",
       "      <td>5.82</td>\n",
       "      <td>29.88</td>\n",
       "      <td>2257.29</td>\n",
       "      <td>142.93</td>\n",
       "      <td>RICE</td>\n",
       "    </tr>\n",
       "    <tr>\n",
       "      <th>4</th>\n",
       "      <td>5.14</td>\n",
       "      <td>28.93</td>\n",
       "      <td>2651.35</td>\n",
       "      <td>139.43</td>\n",
       "      <td>RICE</td>\n",
       "    </tr>\n",
       "    <tr>\n",
       "      <th>5</th>\n",
       "      <td>5.51</td>\n",
       "      <td>28.0</td>\n",
       "      <td>2241.2</td>\n",
       "      <td>162.99</td>\n",
       "      <td>RICE</td>\n",
       "    </tr>\n",
       "    <tr>\n",
       "      <th>6</th>\n",
       "      <td>5.07</td>\n",
       "      <td>28.46</td>\n",
       "      <td>2032.09</td>\n",
       "      <td>154.18</td>\n",
       "      <td>RICE</td>\n",
       "    </tr>\n",
       "    <tr>\n",
       "      <th>7</th>\n",
       "      <td>5.03</td>\n",
       "      <td>29.62</td>\n",
       "      <td>2619.23</td>\n",
       "      <td>147.8</td>\n",
       "      <td>RICE</td>\n",
       "    </tr>\n",
       "    <tr>\n",
       "      <th>8</th>\n",
       "      <td>5.48</td>\n",
       "      <td>29.65</td>\n",
       "      <td>2860.45</td>\n",
       "      <td>173.29</td>\n",
       "      <td>RICE</td>\n",
       "    </tr>\n",
       "    <tr>\n",
       "      <th>9</th>\n",
       "      <td>5.45</td>\n",
       "      <td>29.51</td>\n",
       "      <td>2877.97</td>\n",
       "      <td>142.25</td>\n",
       "      <td>RICE</td>\n",
       "    </tr>\n",
       "  </tbody>\n",
       "</table>\n",
       "</div>"
      ],
      "text/plain": [
       "     ph   temp altitude rainfall  crop\n",
       "0  5.86  26.14  2285.45   110.52  RICE\n",
       "1  5.86  26.12  2235.28   183.12  RICE\n",
       "2  5.48  26.73  1703.03   198.55  RICE\n",
       "3  5.82  29.88  2257.29   142.93  RICE\n",
       "4  5.14  28.93  2651.35   139.43  RICE\n",
       "5  5.51   28.0   2241.2   162.99  RICE\n",
       "6  5.07  28.46  2032.09   154.18  RICE\n",
       "7  5.03  29.62  2619.23    147.8  RICE\n",
       "8  5.48  29.65  2860.45   173.29  RICE\n",
       "9  5.45  29.51  2877.97   142.25  RICE"
      ]
     },
     "execution_count": 4,
     "metadata": {},
     "output_type": "execute_result"
    }
   ],
   "source": [
    "pd.DataFrame(getCropData('RICE',5,6,25,30,0,3000,100,200,10),columns=['ph','temp','altitude','rainfall','crop'])"
   ]
  },
  {
   "cell_type": "code",
   "execution_count": 92,
   "metadata": {},
   "outputs": [],
   "source": [
    "#cropName,phmin,phmax,tempmin,tempmax,altmin,altmax,rfmin,rfmax,samplesize=30\n",
    "#ricedata=getCropData('RICE',5,6,25,30,0,3000,100,200,200)\n",
    "\n",
    "maizedata = getCropData('MAIZE',5.5,7,25,30,0,2200,600,900,1000)\n",
    "paddydata = getCropData('PADDY',6,7,20,25,0,3000,25,150,1000)\n",
    "milletdata = getCropData('MILLET',5,6,15,20,0,2100,450,650,1000)\n",
    "barleydata = getCropData('BARLEY',6,7.5,15,17,0.2000,390,430,1000)\n",
    "cerealsdata = getCropData('CEREAL',5.5,6.5,21,24,1600,2600,200,300 )\n",
    "oilseeddata=getCropData('OILSEED',4.5,8,18,24,0,2400,25,500)\n",
    "potatodata=getCropData('POTATO',4.8,5.5,12,25,1500,4200,500,700)\n",
    "jutedata=getCropData('JUTE',4.8,5.8,24,38,0,1000,800,1000)\n",
    "pulsedata=getCropData('PULSE',4.5,6.5,20,35,0,2400,100,400)\n",
    "tobaccodata=getCropData('TOBACCO',5.8,6.5,24,27,0,2000,500,1250)\n",
    "sugarcanedata=getCropData('SUGARCANE',5,8.5,15,45,0,1000,500,800)\n",
    "cottondata=getCropData('COTTON',6,6.5,18,30,0,2100,500,700)\n",
    "cardamomdata=getCropData('CARDAMOM',5.5,6.5,30,80,600,1200,1500,2150)\n",
    "beandata=getCropData('BEAN',6,6.5,14,32,1000,2100,200,400)\n",
    "mustarddata=getCropData('MUSTARD',5,5.7,7,25,0,3000,625,1000)\n",
    "\n",
    "\n",
    "data=np.concatenate([maizedata,paddydata,milletdata,barleydata,cerealsdata,oilseeddata,potatodata,jutedata,pulsedata,tobaccodata,sugarcanedata,cottondata,cardamomdata,beandata,mustarddata],axis=0)\n",
    "\n",
    "np.random.shuffle(data)\n",
    "df=pd.DataFrame(data,columns=['ph','temp','altitude','rainfall','crop'])\n",
    "df.to_csv('crops.csv')"
   ]
  },
  {
   "cell_type": "code",
   "execution_count": 93,
   "metadata": {},
   "outputs": [],
   "source": [
    "#from sklearn.tree import DecisionTreeClassifier\n",
    "#from sklearn.cross_validation import train_test_split\n",
    "from sklearn.model_selection import train_test_split"
   ]
  },
  {
   "cell_type": "code",
   "execution_count": 94,
   "metadata": {},
   "outputs": [],
   "source": [
    "#shaping features and target and splitting data into training and testing sets \n",
    "X = data[:,0:4:1] # start:stop:stepsize\n",
    "Y = data[:,4:]\n",
    "x_train,x_test,y_train,y_test = train_test_split(X,Y,test_size=0.5)"
   ]
  },
  {
   "cell_type": "code",
   "execution_count": 164,
   "metadata": {},
   "outputs": [],
   "source": [
    "from sklearn.linear_model import LogisticRegression"
   ]
  },
  {
   "cell_type": "code",
   "execution_count": null,
   "metadata": {},
   "outputs": [],
   "source": []
  },
  {
   "cell_type": "code",
   "execution_count": 168,
   "metadata": {},
   "outputs": [],
   "source": [
    "from sklearn.model_selection import cross_val_score\n",
    "import matplotlib.pyplot as plt\n",
    "%matplotlib inline\n",
    "def setParams(c=1.0,iter=1000):\n",
    "    #cv vaneko cross validation ko lagi no of folds (for stratified k folding)\n",
    "    score=cross_val_score(LogisticRegression(C=c,multi_class='auto',max_iter=1000),X.astype(np.float64),Y.ravel(),cv=4)\n",
    "    print(score)\n",
    "    plt.scatter(c,score[2])"
   ]
  },
  {
   "cell_type": "code",
   "execution_count": 169,
   "metadata": {},
   "outputs": [
    {
     "name": "stderr",
     "output_type": "stream",
     "text": [
      "/home/gg/anaconda3/lib/python3.6/site-packages/sklearn/linear_model/logistic.py:433: FutureWarning: Default solver will be changed to 'lbfgs' in 0.22. Specify a solver to silence this warning.\n",
      "  FutureWarning)\n",
      "/home/gg/anaconda3/lib/python3.6/site-packages/sklearn/linear_model/logistic.py:433: FutureWarning: Default solver will be changed to 'lbfgs' in 0.22. Specify a solver to silence this warning.\n",
      "  FutureWarning)\n",
      "/home/gg/anaconda3/lib/python3.6/site-packages/sklearn/linear_model/logistic.py:433: FutureWarning: Default solver will be changed to 'lbfgs' in 0.22. Specify a solver to silence this warning.\n",
      "  FutureWarning)\n",
      "/home/gg/anaconda3/lib/python3.6/site-packages/sklearn/linear_model/logistic.py:433: FutureWarning: Default solver will be changed to 'lbfgs' in 0.22. Specify a solver to silence this warning.\n",
      "  FutureWarning)\n"
     ]
    },
    {
     "name": "stdout",
     "output_type": "stream",
     "text": [
      "[0.80614657 0.79905437 0.8177458  0.82134293]\n"
     ]
    },
    {
     "name": "stderr",
     "output_type": "stream",
     "text": [
      "/home/gg/anaconda3/lib/python3.6/site-packages/sklearn/linear_model/logistic.py:433: FutureWarning: Default solver will be changed to 'lbfgs' in 0.22. Specify a solver to silence this warning.\n",
      "  FutureWarning)\n",
      "/home/gg/anaconda3/lib/python3.6/site-packages/sklearn/linear_model/logistic.py:433: FutureWarning: Default solver will be changed to 'lbfgs' in 0.22. Specify a solver to silence this warning.\n",
      "  FutureWarning)\n",
      "/home/gg/anaconda3/lib/python3.6/site-packages/sklearn/linear_model/logistic.py:433: FutureWarning: Default solver will be changed to 'lbfgs' in 0.22. Specify a solver to silence this warning.\n",
      "  FutureWarning)\n",
      "/home/gg/anaconda3/lib/python3.6/site-packages/sklearn/linear_model/logistic.py:433: FutureWarning: Default solver will be changed to 'lbfgs' in 0.22. Specify a solver to silence this warning.\n",
      "  FutureWarning)\n"
     ]
    },
    {
     "name": "stdout",
     "output_type": "stream",
     "text": [
      "[0.86524823 0.86288416 0.88369305 0.87170264]\n"
     ]
    },
    {
     "name": "stderr",
     "output_type": "stream",
     "text": [
      "/home/gg/anaconda3/lib/python3.6/site-packages/sklearn/linear_model/logistic.py:433: FutureWarning: Default solver will be changed to 'lbfgs' in 0.22. Specify a solver to silence this warning.\n",
      "  FutureWarning)\n",
      "/home/gg/anaconda3/lib/python3.6/site-packages/sklearn/linear_model/logistic.py:433: FutureWarning: Default solver will be changed to 'lbfgs' in 0.22. Specify a solver to silence this warning.\n",
      "  FutureWarning)\n",
      "/home/gg/anaconda3/lib/python3.6/site-packages/sklearn/linear_model/logistic.py:433: FutureWarning: Default solver will be changed to 'lbfgs' in 0.22. Specify a solver to silence this warning.\n",
      "  FutureWarning)\n",
      "/home/gg/anaconda3/lib/python3.6/site-packages/sklearn/linear_model/logistic.py:433: FutureWarning: Default solver will be changed to 'lbfgs' in 0.22. Specify a solver to silence this warning.\n",
      "  FutureWarning)\n"
     ]
    },
    {
     "name": "stdout",
     "output_type": "stream",
     "text": [
      "[0.88179669 0.87943262 0.89688249 0.90047962]\n"
     ]
    },
    {
     "name": "stderr",
     "output_type": "stream",
     "text": [
      "/home/gg/anaconda3/lib/python3.6/site-packages/sklearn/linear_model/logistic.py:433: FutureWarning: Default solver will be changed to 'lbfgs' in 0.22. Specify a solver to silence this warning.\n",
      "  FutureWarning)\n",
      "/home/gg/anaconda3/lib/python3.6/site-packages/sklearn/linear_model/logistic.py:433: FutureWarning: Default solver will be changed to 'lbfgs' in 0.22. Specify a solver to silence this warning.\n",
      "  FutureWarning)\n",
      "/home/gg/anaconda3/lib/python3.6/site-packages/sklearn/linear_model/logistic.py:433: FutureWarning: Default solver will be changed to 'lbfgs' in 0.22. Specify a solver to silence this warning.\n",
      "  FutureWarning)\n",
      "/home/gg/anaconda3/lib/python3.6/site-packages/sklearn/linear_model/logistic.py:433: FutureWarning: Default solver will be changed to 'lbfgs' in 0.22. Specify a solver to silence this warning.\n",
      "  FutureWarning)\n"
     ]
    },
    {
     "name": "stdout",
     "output_type": "stream",
     "text": [
      "[0.89125296 0.89243499 0.90527578 0.90527578]\n"
     ]
    },
    {
     "name": "stderr",
     "output_type": "stream",
     "text": [
      "/home/gg/anaconda3/lib/python3.6/site-packages/sklearn/linear_model/logistic.py:433: FutureWarning: Default solver will be changed to 'lbfgs' in 0.22. Specify a solver to silence this warning.\n",
      "  FutureWarning)\n",
      "/home/gg/anaconda3/lib/python3.6/site-packages/sklearn/linear_model/logistic.py:433: FutureWarning: Default solver will be changed to 'lbfgs' in 0.22. Specify a solver to silence this warning.\n",
      "  FutureWarning)\n",
      "/home/gg/anaconda3/lib/python3.6/site-packages/sklearn/linear_model/logistic.py:433: FutureWarning: Default solver will be changed to 'lbfgs' in 0.22. Specify a solver to silence this warning.\n",
      "  FutureWarning)\n",
      "/home/gg/anaconda3/lib/python3.6/site-packages/sklearn/linear_model/logistic.py:433: FutureWarning: Default solver will be changed to 'lbfgs' in 0.22. Specify a solver to silence this warning.\n",
      "  FutureWarning)\n"
     ]
    },
    {
     "name": "stdout",
     "output_type": "stream",
     "text": [
      "[0.89479905 0.89952719 0.91007194 0.91007194]\n"
     ]
    },
    {
     "name": "stderr",
     "output_type": "stream",
     "text": [
      "/home/gg/anaconda3/lib/python3.6/site-packages/sklearn/linear_model/logistic.py:433: FutureWarning: Default solver will be changed to 'lbfgs' in 0.22. Specify a solver to silence this warning.\n",
      "  FutureWarning)\n",
      "/home/gg/anaconda3/lib/python3.6/site-packages/sklearn/linear_model/logistic.py:433: FutureWarning: Default solver will be changed to 'lbfgs' in 0.22. Specify a solver to silence this warning.\n",
      "  FutureWarning)\n",
      "/home/gg/anaconda3/lib/python3.6/site-packages/sklearn/linear_model/logistic.py:433: FutureWarning: Default solver will be changed to 'lbfgs' in 0.22. Specify a solver to silence this warning.\n",
      "  FutureWarning)\n",
      "/home/gg/anaconda3/lib/python3.6/site-packages/sklearn/linear_model/logistic.py:433: FutureWarning: Default solver will be changed to 'lbfgs' in 0.22. Specify a solver to silence this warning.\n",
      "  FutureWarning)\n"
     ]
    },
    {
     "name": "stdout",
     "output_type": "stream",
     "text": [
      "[0.89479905 0.90189125 0.91007194 0.90767386]\n"
     ]
    },
    {
     "data": {
      "image/png": "[encoded data removed]",
      "text/plain": [
       "<Figure size 432x288 with 1 Axes>"
      ]
     },
     "metadata": {
      "needs_background": "light"
     },
     "output_type": "display_data"
    }
   ],
   "source": [
    "clist=[0.001,0.01,0.1,1,10,100]\n",
    "for c in clist:\n",
    "    setParams(c)"
   ]
  },
  {
   "cell_type": "code",
   "execution_count": 170,
   "metadata": {},
   "outputs": [
    {
     "name": "stderr",
     "output_type": "stream",
     "text": [
      "/home/gg/anaconda3/lib/python3.6/site-packages/sklearn/linear_model/logistic.py:433: FutureWarning: Default solver will be changed to 'lbfgs' in 0.22. Specify a solver to silence this warning.\n",
      "  FutureWarning)\n",
      "/home/gg/anaconda3/lib/python3.6/site-packages/sklearn/utils/validation.py:761: DataConversionWarning: A column-vector y was passed when a 1d array was expected. Please change the shape of y to (n_samples, ), for example using ravel().\n",
      "  y = column_or_1d(y, warn=True)\n"
     ]
    },
    {
     "data": {
      "text/plain": [
       "LogisticRegression(C=100, class_weight=None, dual=False, fit_intercept=True,\n",
       "          intercept_scaling=1, max_iter=2000, multi_class='auto',\n",
       "          n_jobs=None, penalty='l2', random_state=None, solver='warn',\n",
       "          tol=0.0001, verbose=0, warm_start=False)"
      ]
     },
     "execution_count": 170,
     "metadata": {},
     "output_type": "execute_result"
    }
   ],
   "source": [
    "lrmodel=LogisticRegression(C=100,max_iter=2000,multi_class='auto')\n",
    "lrmodel.fit(x_train,y_train)"
   ]
  },
  {
   "cell_type": "code",
   "execution_count": 171,
   "metadata": {},
   "outputs": [
    {
     "data": {
      "text/plain": [
       "0.9041666666666667"
      ]
     },
     "execution_count": 171,
     "metadata": {},
     "output_type": "execute_result"
    }
   ],
   "source": [
    "linearRegressionScore=lrmodel.score(x_test.astype(np.float64),y_test)\n",
    "linearRegressionScore"
   ]
  },
  {
   "cell_type": "code",
   "execution_count": 172,
   "metadata": {},
   "outputs": [
    {
     "data": {
      "text/plain": [
       "array(['BARLEY', 'BEAN', 'CARDAMOM', 'CEREAL', 'COTTON', 'JUTE', 'MAIZE',\n",
       "       'MILLET', 'MUSTARD', 'OILSEED', 'PADDY', 'POTATO', 'PULSE',\n",
       "       'SUGARCANE', 'TOBACCO'], dtype='<U32')"
      ]
     },
     "execution_count": 172,
     "metadata": {},
     "output_type": "execute_result"
    }
   ],
   "source": [
    "lrmodel.classes_"
   ]
  },
  {
   "cell_type": "code",
   "execution_count": 173,
   "metadata": {},
   "outputs": [],
   "source": [
    "def giveSuggestions(features,model,numberOfSuggestions=3):\n",
    "    predictProbabilities=model.predict_proba([features.astype(np.float64)]) \n",
    "    indeces=predictProbabilities[0].argsort()[-numberOfSuggestions:][::-1]\n",
    "    print(\"Suggestions in decresing of their priorities\",indeces)\n",
    "    print(model.predict([features.astype(np.float64)]))\n",
    "    for i in range(len(indeces)):\n",
    "        print(i,\" : \",model.classes_[indeces[i]],\" \")\n"
   ]
  },
  {
   "cell_type": "code",
   "execution_count": 175,
   "metadata": {},
   "outputs": [
    {
     "name": "stdout",
     "output_type": "stream",
     "text": [
      "Suggestions in decresing of their priorities [6 5 7 2]\n",
      "['MAIZE']\n",
      "0  :  MAIZE  \n",
      "1  :  JUTE  \n",
      "2  :  MILLET  \n",
      "3  :  CARDAMOM  \n",
      "\n",
      "\n",
      " Y_TEST VALUE => ['JUTE']\n"
     ]
    }
   ],
   "source": [
    "#giveSuggestions(features,trainedModel, no of suggestions of crops from best crops to leat favourable crop)\n",
    "giveSuggestions(x_test[10],lrmodel,4)\n",
    "print(\"\\n\\n Y_TEST VALUE =>\",y_test[10])"
   ]
  },
  {
   "cell_type": "code",
   "execution_count": 14,
   "metadata": {},
   "outputs": [],
   "source": [
    "#!pip install --user --upgrade git+https://github.com/jpmml/sklearn2pmml.git"
   ]
  },
  {
   "cell_type": "code",
   "execution_count": 176,
   "metadata": {},
   "outputs": [],
   "source": [
    "from sklearn.externals import joblib"
   ]
  },
  {
   "cell_type": "code",
   "execution_count": 177,
   "metadata": {},
   "outputs": [
    {
     "data": {
      "text/plain": [
       "['model.joblib']"
      ]
     },
     "execution_count": 177,
     "metadata": {},
     "output_type": "execute_result"
    }
   ],
   "source": [
    "#exporting the trained model\n",
    "joblib.dump(lrmodel, 'model.joblib', compress=9)\n",
    "\n"
   ]
  },
  {
   "cell_type": "code",
   "execution_count": 178,
   "metadata": {},
   "outputs": [],
   "source": [
    "lrmodel.class_weight"
   ]
  },
  {
   "cell_type": "code",
   "execution_count": 180,
   "metadata": {},
   "outputs": [
    {
     "name": "stdout",
     "output_type": "stream",
     "text": [
      "              precision    recall  f1-score   support\n",
      "\n",
      "      BARLEY       1.00      0.65      0.79        17\n",
      "        BEAN       0.00      0.00      0.00        18\n",
      "    CARDAMOM       1.00      0.40      0.57        15\n",
      "      CEREAL       1.00      0.08      0.15        12\n",
      "      COTTON       0.00      0.00      0.00        17\n",
      "        JUTE       0.00      0.00      0.00        19\n",
      "       MAIZE       0.84      1.00      0.91       506\n",
      "      MILLET       0.91      1.00      0.95       487\n",
      "     MUSTARD       0.00      0.00      0.00        14\n",
      "     OILSEED       0.00      0.00      0.00        15\n",
      "       PADDY       0.97      1.00      0.99       496\n",
      "      POTATO       1.00      0.38      0.55        16\n",
      "       PULSE       1.00      0.22      0.36        18\n",
      "   SUGARCANE       0.67      0.11      0.18        19\n",
      "     TOBACCO       0.00      0.00      0.00        11\n",
      "\n",
      "   micro avg       0.90      0.90      0.90      1680\n",
      "   macro avg       0.56      0.32      0.36      1680\n",
      "weighted avg       0.86      0.90      0.87      1680\n",
      "\n"
     ]
    },
    {
     "name": "stderr",
     "output_type": "stream",
     "text": [
      "/home/gg/anaconda3/lib/python3.6/site-packages/sklearn/metrics/classification.py:1143: UndefinedMetricWarning: Precision and F-score are ill-defined and being set to 0.0 in labels with no predicted samples.\n",
      "  'precision', 'predicted', average, warn_for)\n"
     ]
    }
   ],
   "source": [
    "from sklearn.metrics import classification_report\n",
    "print(classification_report(y_test,lrmodel.predict(x_test.astype(np.float64))))"
   ]
  },
  {
   "cell_type": "code",
   "execution_count": 186,
   "metadata": {},
   "outputs": [
    {
     "name": "stderr",
     "output_type": "stream",
     "text": [
      "/home/gg/anaconda3/lib/python3.6/site-packages/sklearn/model_selection/_split.py:2053: FutureWarning: You should specify a value for 'cv' instead of relying on the default value. The default value will change from 3 to 5 in version 0.22.\n",
      "  warnings.warn(CV_WARNING, FutureWarning)\n",
      "/home/gg/anaconda3/lib/python3.6/site-packages/sklearn/linear_model/logistic.py:433: FutureWarning: Default solver will be changed to 'lbfgs' in 0.22. Specify a solver to silence this warning.\n",
      "  FutureWarning)\n",
      "/home/gg/anaconda3/lib/python3.6/site-packages/sklearn/linear_model/logistic.py:460: FutureWarning: Default multi_class will be changed to 'auto' in 0.22. Specify the multi_class option to silence this warning.\n",
      "  \"this warning.\", FutureWarning)\n",
      "/home/gg/anaconda3/lib/python3.6/site-packages/sklearn/linear_model/logistic.py:433: FutureWarning: Default solver will be changed to 'lbfgs' in 0.22. Specify a solver to silence this warning.\n",
      "  FutureWarning)\n",
      "/home/gg/anaconda3/lib/python3.6/site-packages/sklearn/linear_model/logistic.py:460: FutureWarning: Default multi_class will be changed to 'auto' in 0.22. Specify the multi_class option to silence this warning.\n",
      "  \"this warning.\", FutureWarning)\n",
      "/home/gg/anaconda3/lib/python3.6/site-packages/sklearn/linear_model/logistic.py:433: FutureWarning: Default solver will be changed to 'lbfgs' in 0.22. Specify a solver to silence this warning.\n",
      "  FutureWarning)\n",
      "/home/gg/anaconda3/lib/python3.6/site-packages/sklearn/linear_model/logistic.py:460: FutureWarning: Default multi_class will be changed to 'auto' in 0.22. Specify the multi_class option to silence this warning.\n",
      "  \"this warning.\", FutureWarning)\n"
     ]
    },
    {
     "name": "stdout",
     "output_type": "stream",
     "text": [
      "[0.89572193 0.89901698 0.89812332]\n",
      "              precision    recall  f1-score   support\n",
      "\n",
      "      BARLEY       1.00      0.65      0.79        17\n",
      "        BEAN       0.00      0.00      0.00        18\n",
      "    CARDAMOM       1.00      0.40      0.57        15\n",
      "      CEREAL       1.00      0.08      0.15        12\n",
      "      COTTON       0.00      0.00      0.00        17\n",
      "        JUTE       0.00      0.00      0.00        19\n",
      "       MAIZE       0.84      1.00      0.91       506\n",
      "      MILLET       0.91      1.00      0.95       487\n",
      "     MUSTARD       0.00      0.00      0.00        14\n",
      "     OILSEED       0.00      0.00      0.00        15\n",
      "       PADDY       0.97      1.00      0.99       496\n",
      "      POTATO       1.00      0.38      0.55        16\n",
      "       PULSE       1.00      0.22      0.36        18\n",
      "   SUGARCANE       0.67      0.11      0.18        19\n",
      "     TOBACCO       0.00      0.00      0.00        11\n",
      "\n",
      "   micro avg       0.90      0.90      0.90      1680\n",
      "   macro avg       0.56      0.32      0.36      1680\n",
      "weighted avg       0.86      0.90      0.87      1680\n",
      "\n"
     ]
    },
    {
     "name": "stderr",
     "output_type": "stream",
     "text": [
      "/home/gg/anaconda3/lib/python3.6/site-packages/sklearn/metrics/classification.py:1143: UndefinedMetricWarning: Precision and F-score are ill-defined and being set to 0.0 in labels with no predicted samples.\n",
      "  'precision', 'predicted', average, warn_for)\n"
     ]
    }
   ],
   "source": [
    "#before Hyperparameters Tuning\n",
    "from sklearn.model_selection import cross_val_score\n",
    "print(cross_val_score(LogisticRegression(),X.astype(np.float64),Y.ravel()))\n",
    "from sklearn.metrics import classification_report\n",
    "print(classification_report(y_test,lrmodel.predict(x_test.astype(np.float64))))"
   ]
  },
  {
   "cell_type": "code",
   "execution_count": 181,
   "metadata": {},
   "outputs": [],
   "source": [
    "# from sklearn.model_selection import StratifiedKFold\n",
    "# StratifiedKFold(n_splits=5,X.astype,Y)"
   ]
  },
  {
   "cell_type": "code",
   "execution_count": null,
   "metadata": {},
   "outputs": [],
   "source": []
  }
 ],
 "metadata": {
  "kernelspec": {
   "display_name": "Python 3",
   "language": "python",
   "name": "python3"
  },
  "language_info": {
   "codemirror_mode": {
    "name": "ipython",
    "version": 3
   },
   "file_extension": ".py",
   "mimetype": "text/x-python",
   "name": "python",
   "nbconvert_exporter": "python",
   "pygments_lexer": "ipython3",
   "version": "3.6.6"
  }
 },
 "nbformat": 4,
 "nbformat_minor": 2
}
