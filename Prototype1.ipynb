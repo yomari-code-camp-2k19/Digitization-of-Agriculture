{
 "cells": [
  {
   "cell_type": "code",
   "execution_count": 1,
   "metadata": {},
   "outputs": [],
   "source": [
    "import pandas as pd\n",
    "import numpy as np"
   ]
  },
  {
   "cell_type": "code",
   "execution_count": 2,
   "metadata": {},
   "outputs": [
    {
     "data": {
      "text/plain": [
       "array([1.27523775, 4.72269045, 2.52237693])"
      ]
     },
     "execution_count": 2,
     "metadata": {},
     "output_type": "execute_result"
    }
   ],
   "source": [
    "def theFunction(p,q,n):\n",
    "    return p+np.random.rand(n)*(q-p)\n",
    "theFunction(1,5,3)# from 1 to 5 generate 3 numbers"
   ]
  },
  {
   "cell_type": "code",
   "execution_count": 3,
   "metadata": {},
   "outputs": [],
   "source": [
    "def getCropData(cropName,phmin,phmax,tempmin,tempmax,altmin,altmax,rfmin,rfmax,samplesize=30):\n",
    "    \n",
    "    crop= np.repeat(cropName,samplesize).reshape(samplesize,1)\n",
    "    #ph 0-14\n",
    "    ph = theFunction(phmin,phmax,samplesize)\n",
    "    ph=ph.reshape(samplesize,1)   \n",
    "    ph=np.round(ph,decimals=2) #rounding to 2 decimal places\n",
    "    #temperature in degree celcius\n",
    "    temp = np.round(theFunction(tempmin,tempmax,samplesize).reshape(samplesize,1),2)\n",
    "    altitude = np.round(theFunction(altmin,altmax,samplesize).reshape(samplesize,1),2)\n",
    "    rainfall = np.round(theFunction(rfmin,rfmax,samplesize).reshape(samplesize,1),2)\n",
    "    #ph temp altitude rainfall crop\n",
    "    return np.concatenate([ph,temp,altitude,rainfall,crop],axis=1)"
   ]
  },
  {
   "cell_type": "code",
   "execution_count": 4,
   "metadata": {},
   "outputs": [
    {
     "data": {
      "text/html": [
       "<div>\n",
       "<style scoped>\n",
       "    .dataframe tbody tr th:only-of-type {\n",
       "        vertical-align: middle;\n",
       "    }\n",
       "\n",
       "    .dataframe tbody tr th {\n",
       "        vertical-align: top;\n",
       "    }\n",
       "\n",
       "    .dataframe thead th {\n",
       "        text-align: right;\n",
       "    }\n",
       "</style>\n",
       "<table border=\"1\" class=\"dataframe\">\n",
       "  <thead>\n",
       "    <tr style=\"text-align: right;\">\n",
       "      <th></th>\n",
       "      <th>ph</th>\n",
       "      <th>temp</th>\n",
       "      <th>altitude</th>\n",
       "      <th>rainfall</th>\n",
       "      <th>crop</th>\n",
       "    </tr>\n",
       "  </thead>\n",
       "  <tbody>\n",
       "    <tr>\n",
       "      <th>0</th>\n",
       "      <td>5.54</td>\n",
       "      <td>28.31</td>\n",
       "      <td>2507.94</td>\n",
       "      <td>170.03</td>\n",
       "      <td>RICE</td>\n",
       "    </tr>\n",
       "    <tr>\n",
       "      <th>1</th>\n",
       "      <td>5.04</td>\n",
       "      <td>29.6</td>\n",
       "      <td>2995.95</td>\n",
       "      <td>130.34</td>\n",
       "      <td>RICE</td>\n",
       "    </tr>\n",
       "    <tr>\n",
       "      <th>2</th>\n",
       "      <td>5.68</td>\n",
       "      <td>25.94</td>\n",
       "      <td>124.39</td>\n",
       "      <td>182.37</td>\n",
       "      <td>RICE</td>\n",
       "    </tr>\n",
       "    <tr>\n",
       "      <th>3</th>\n",
       "      <td>5.45</td>\n",
       "      <td>26.88</td>\n",
       "      <td>1179.18</td>\n",
       "      <td>166.76</td>\n",
       "      <td>RICE</td>\n",
       "    </tr>\n",
       "    <tr>\n",
       "      <th>4</th>\n",
       "      <td>5.64</td>\n",
       "      <td>25.61</td>\n",
       "      <td>2335.82</td>\n",
       "      <td>125.76</td>\n",
       "      <td>RICE</td>\n",
       "    </tr>\n",
       "    <tr>\n",
       "      <th>5</th>\n",
       "      <td>5.21</td>\n",
       "      <td>27.82</td>\n",
       "      <td>530.69</td>\n",
       "      <td>147.87</td>\n",
       "      <td>RICE</td>\n",
       "    </tr>\n",
       "    <tr>\n",
       "      <th>6</th>\n",
       "      <td>5.1</td>\n",
       "      <td>25.32</td>\n",
       "      <td>1642.19</td>\n",
       "      <td>141.74</td>\n",
       "      <td>RICE</td>\n",
       "    </tr>\n",
       "    <tr>\n",
       "      <th>7</th>\n",
       "      <td>5.34</td>\n",
       "      <td>26.99</td>\n",
       "      <td>719.38</td>\n",
       "      <td>191.17</td>\n",
       "      <td>RICE</td>\n",
       "    </tr>\n",
       "    <tr>\n",
       "      <th>8</th>\n",
       "      <td>5.41</td>\n",
       "      <td>28.33</td>\n",
       "      <td>867.11</td>\n",
       "      <td>169.43</td>\n",
       "      <td>RICE</td>\n",
       "    </tr>\n",
       "    <tr>\n",
       "      <th>9</th>\n",
       "      <td>5.02</td>\n",
       "      <td>26.3</td>\n",
       "      <td>2533.69</td>\n",
       "      <td>139.41</td>\n",
       "      <td>RICE</td>\n",
       "    </tr>\n",
       "  </tbody>\n",
       "</table>\n",
       "</div>"
      ],
      "text/plain": [
       "     ph   temp altitude rainfall  crop\n",
       "0  5.54  28.31  2507.94   170.03  RICE\n",
       "1  5.04   29.6  2995.95   130.34  RICE\n",
       "2  5.68  25.94   124.39   182.37  RICE\n",
       "3  5.45  26.88  1179.18   166.76  RICE\n",
       "4  5.64  25.61  2335.82   125.76  RICE\n",
       "5  5.21  27.82   530.69   147.87  RICE\n",
       "6   5.1  25.32  1642.19   141.74  RICE\n",
       "7  5.34  26.99   719.38   191.17  RICE\n",
       "8  5.41  28.33   867.11   169.43  RICE\n",
       "9  5.02   26.3  2533.69   139.41  RICE"
      ]
     },
     "execution_count": 4,
     "metadata": {},
     "output_type": "execute_result"
    }
   ],
   "source": [
    "pd.DataFrame(getCropData('RICE',5,6,25,30,0,3000,100,200,10),columns=['ph','temp','altitude','rainfall','crop'])"
   ]
  },
  {
   "cell_type": "code",
   "execution_count": 19,
   "metadata": {},
   "outputs": [],
   "source": [
    "#cropName,phmin,phmax,tempmin,tempmax,altmin,altmax,rfmin,rfmax,samplesize=30\n",
    "#ricedata=getCropData('RICE',5,6,25,30,0,3000,100,200,200)\n",
    "\n",
    "maizedata = getCropData('MAIZE',5.5,7,25,30,0,2200,600,900,1000)\n",
    "paddydata = getCropData('PADDY',6,7,20,25,0,3000,25,150,1000)\n",
    "milletdata = getCropData('MILLET',5,6,15,20,0,2100,450,650,1000)\n",
    "barleydata = getCropData('BARLEY',6,7.5,15,17,0.2000,390,430,1000)\n",
    "cerealsdata = getCropData('CEREAL',5.5,6.5,21,24,1600,2600,200,300 )\n",
    "oilseeddata=getCropData('OILSEED',4.5,8,18,24,0,2400,25,500)\n",
    "potatodata=getCropData('POTATO',4.8,5.5,12,25,1500,4200,500,700)\n",
    "jutedata=getCropData('JUTE',4.8,5.8,24,38,0,1000,800,1000)\n",
    "pulsedata=getCropData('PULSE',4.5,6.5,20,35,0,2400,100,400)\n",
    "tobaccodata=getCropData('TOBACCO',5.8,6.5,24,27,0,2000,500,1250)\n",
    "sugarcanedata=getCropData('SUGARCANE',5,8.5,15,45,0,1000,500,800)\n",
    "cottondata=getCropData('COTTON',6,6.5,18,30,0,2100,500,700)\n",
    "cardamomdata=getCropData('CARDAMOM',5.5,6.5,30,80,600,1200,1500,2150)\n",
    "beandata=getCropData('BEAN',6,6.5,14,32,1000,2100,200,400)\n",
    "mustarddata=getCropData('MUSTARD',5,5.7,7,25,0,3000,625,1000)\n",
    "\n",
    "\n",
    "data=np.concatenate([maizedata,paddydata,milletdata,barleydata,cerealsdata,oilseeddata,potatodata,jutedata,pulsedata,tobaccodata,sugarcanedata,cottondata,cardamomdata,beandata,mustarddata],axis=0)\n",
    "\n",
    "np.random.shuffle(data)\n",
    "df=pd.DataFrame(data,columns=['ph','temp','altitude','rainfall','crop'])\n",
    "df.to_csv('crops.csv')"
   ]
  },
  {
   "cell_type": "code",
   "execution_count": 8,
   "metadata": {},
   "outputs": [],
   "source": [
    "#from sklearn.tree import DecisionTreeClassifier\n",
    "#from sklearn.cross_validation import train_test_split\n",
    "from sklearn.model_selection import train_test_split"
   ]
  },
  {
   "cell_type": "code",
   "execution_count": 9,
   "metadata": {},
   "outputs": [],
   "source": [
    "#shaping features and target and splitting data into training and testing sets \n",
    "X = data[:,0:4:1] # start:stop:stepsize\n",
    "Y = data[:,4:]\n",
    "x_train,x_test,y_train,y_test = train_test_split(X,Y,test_size=0.5)"
   ]
  },
  {
   "cell_type": "code",
   "execution_count": 10,
   "metadata": {},
   "outputs": [],
   "source": [
    "from sklearn.linear_model import LogisticRegression\n",
    "lrmodel=LogisticRegression()"
   ]
  },
  {
   "cell_type": "code",
   "execution_count": 11,
   "metadata": {},
   "outputs": [
    {
     "name": "stderr",
     "output_type": "stream",
     "text": [
      "/home/gg/anaconda3/lib/python3.6/site-packages/sklearn/linear_model/logistic.py:433: FutureWarning: Default solver will be changed to 'lbfgs' in 0.22. Specify a solver to silence this warning.\n",
      "  FutureWarning)\n",
      "/home/gg/anaconda3/lib/python3.6/site-packages/sklearn/utils/validation.py:761: DataConversionWarning: A column-vector y was passed when a 1d array was expected. Please change the shape of y to (n_samples, ), for example using ravel().\n",
      "  y = column_or_1d(y, warn=True)\n",
      "/home/gg/anaconda3/lib/python3.6/site-packages/sklearn/linear_model/logistic.py:460: FutureWarning: Default multi_class will be changed to 'auto' in 0.22. Specify the multi_class option to silence this warning.\n",
      "  \"this warning.\", FutureWarning)\n"
     ]
    },
    {
     "data": {
      "text/plain": [
       "LogisticRegression(C=1.0, class_weight=None, dual=False, fit_intercept=True,\n",
       "          intercept_scaling=1, max_iter=100, multi_class='warn',\n",
       "          n_jobs=None, penalty='l2', random_state=None, solver='warn',\n",
       "          tol=0.0001, verbose=0, warm_start=False)"
      ]
     },
     "execution_count": 11,
     "metadata": {},
     "output_type": "execute_result"
    }
   ],
   "source": [
    "lrmodel.fit(x_train,y_train)"
   ]
  },
  {
   "cell_type": "code",
   "execution_count": 12,
   "metadata": {},
   "outputs": [
    {
     "data": {
      "text/plain": [
       "0.9053571428571429"
      ]
     },
     "execution_count": 12,
     "metadata": {},
     "output_type": "execute_result"
    }
   ],
   "source": [
    "linearRegressionScore=lrmodel.score(x_test.astype(np.float64),y_test)\n",
    "linearRegressionScore"
   ]
  },
  {
   "cell_type": "code",
   "execution_count": 13,
   "metadata": {},
   "outputs": [
    {
     "data": {
      "text/plain": [
       "array(['BARLEY', 'BEAN', 'CARDAMOM', 'CEREAL', 'COTTON', 'JUTE', 'MAIZE',\n",
       "       'MILLET', 'MUSTARD', 'OILSEED', 'PADDY', 'POTATO', 'PULSE',\n",
       "       'SUGARCANE', 'TOBACCO'], dtype='<U32')"
      ]
     },
     "execution_count": 13,
     "metadata": {},
     "output_type": "execute_result"
    }
   ],
   "source": [
    "lrmodel.classes_"
   ]
  },
  {
   "cell_type": "code",
   "execution_count": 14,
   "metadata": {},
   "outputs": [],
   "source": [
    "def giveSuggestions(features,model,numberOfSuggestions=3):\n",
    "    predictProbabilities=model.predict_proba([features.astype(np.float64)]) \n",
    "    indeces=predictProbabilities[0].argsort()[-numberOfSuggestions:][::-1]\n",
    "    print(\"Suggestions in decresing of their priorities\")\n",
    "    for i in range(len(indeces)):\n",
    "        print(i,\" : \",model.classes_[indeces[i]])\n"
   ]
  },
  {
   "cell_type": "code",
   "execution_count": 15,
   "metadata": {},
   "outputs": [
    {
     "name": "stdout",
     "output_type": "stream",
     "text": [
      "Suggestions in decresing of their priorities\n",
      "0  :  MAIZE\n",
      "1  :  MILLET\n",
      "2  :  COTTON\n",
      "3  :  TOBACCO\n",
      "\n",
      "\n",
      " FOR DEBUGGING --Y_TEST VALUE => ['MAIZE']\n"
     ]
    }
   ],
   "source": [
    "#giveSuggestions(features,trainedModel, no of suggestions of crops from best crops to leat favourable crop)\n",
    "giveSuggestions(x_test[6],lrmodel,4)\n",
    "print(\"\\n\\n FOR DEBUGGING --Y_TEST VALUE =>\",y_test[6])"
   ]
  },
  {
   "cell_type": "code",
   "execution_count": 24,
   "metadata": {},
   "outputs": [],
   "source": [
    "#!pip install --user --upgrade git+https://github.com/jpmml/sklearn2pmml.git"
   ]
  },
  {
   "cell_type": "code",
   "execution_count": 16,
   "metadata": {},
   "outputs": [],
   "source": [
    "from sklearn.externals import joblib"
   ]
  },
  {
   "cell_type": "code",
   "execution_count": 17,
   "metadata": {},
   "outputs": [
    {
     "data": {
      "text/plain": [
       "['model.joblib']"
      ]
     },
     "execution_count": 17,
     "metadata": {},
     "output_type": "execute_result"
    }
   ],
   "source": [
    "#exporting the trained model\n",
    "joblib.dump(lrmodel, 'model.joblib', compress=9)"
   ]
  },
  {
   "cell_type": "code",
   "execution_count": null,
   "metadata": {},
   "outputs": [],
   "source": []
  }
 ],
 "metadata": {
  "kernelspec": {
   "display_name": "Python 3",
   "language": "python",
   "name": "python3"
  },
  "language_info": {
   "codemirror_mode": {
    "name": "ipython",
    "version": 3
   },
   "file_extension": ".py",
   "mimetype": "text/x-python",
   "name": "python",
   "nbconvert_exporter": "python",
   "pygments_lexer": "ipython3",
   "version": "3.6.6"
  }
 },
 "nbformat": 4,
 "nbformat_minor": 2
}
